{
 "cells": [
  {
   "cell_type": "code",
   "execution_count": null,
   "id": "10dac91e-5ed1-4a5d-996d-9e5d7d7c82d4",
   "metadata": {},
   "outputs": [],
   "source": []
  },
  {
   "cell_type": "code",
   "execution_count": 1,
   "id": "610c4fd1-ac96-4440-b7f9-8d49c4c1d070",
   "metadata": {},
   "outputs": [],
   "source": [
    "import psycopg2\n",
    "from configparser import ConfigParser\n",
    "\n",
    "\n",
    "host=\"database-1.c1ynrvwy2f44.us-east-2.rds.amazonaws.com\"\n",
    "username=\"postgres\"\n",
    "password=\"mathfoldr\"\n",
    "dbname=\"postgres\"\n",
    "\n",
    "conn = psycopg2.connect(\n",
    "        host=host,\n",
    "        database=dbname,\n",
    "        user=username,\n",
    "        password=password)"
   ]
  },
  {
   "cell_type": "code",
   "execution_count": 2,
   "id": "5ee1bdf9-0d79-4555-b735-f93e89549baa",
   "metadata": {},
   "outputs": [],
   "source": [
    "def sql(query):\n",
    "        cur.execute(query)\n",
    "        output = cur.fetchone()\n",
    "        conn.commit()\n",
    "        return output"
   ]
  },
  {
   "cell_type": "code",
   "execution_count": 3,
   "id": "c658e866-25d8-4403-9646-9f561c751b36",
   "metadata": {},
   "outputs": [],
   "source": [
    "import time\n",
    "import json\n",
    "\n",
    "\n",
    "def read_json_file(path):\n",
    "    print(\"Processing: \" + path)\n",
    "    t1 = time.time()\n",
    "    with open(path) as f:\n",
    "        data = json.load(f)\n",
    "    t = time.time() - t1\n",
    "    print(t)\n",
    "    print() \n",
    "    return data"
   ]
  },
  {
   "cell_type": "code",
   "execution_count": 4,
   "id": "2af4ae70-a2a5-4892-93c6-4b8fe2008e51",
   "metadata": {},
   "outputs": [],
   "source": [
    "p_1 = '/Users/joebrucker/Downloads/drive-download-20210717T024408Z-001/elmo_nlab_data_first_pass.json'\n",
    "p_2 = '/Users/joebrucker/Downloads/drive-download-20210717T024408Z-001/elmo_nlab_data_first_pass_2.json'"
   ]
  },
  {
   "cell_type": "code",
   "execution_count": 30,
   "id": "0850b9ea-7178-4f13-b0d0-232ba12b862a",
   "metadata": {},
   "outputs": [
    {
     "name": "stdout",
     "output_type": "stream",
     "text": [
      "Processing: /Users/joebrucker/Downloads/drive-download-20210717T024408Z-001/elmo_nlab_data_first_pass.json\n",
      "0.30918216705322266\n",
      "\n"
     ]
    }
   ],
   "source": [
    "p1 = read_json_file(p_1)"
   ]
  },
  {
   "cell_type": "code",
   "execution_count": 31,
   "id": "233306c8-e10a-45e2-8133-feebdfafedc7",
   "metadata": {},
   "outputs": [
    {
     "name": "stdout",
     "output_type": "stream",
     "text": [
      "Processing: /Users/joebrucker/Downloads/drive-download-20210717T024408Z-001/elmo_nlab_data_first_pass_2.json\n",
      "0.3084738254547119\n",
      "\n"
     ]
    }
   ],
   "source": [
    "p2 = read_json_file(p_2)"
   ]
  },
  {
   "cell_type": "code",
   "execution_count": null,
   "id": "d39ce70d-d98f-4c56-b2d0-aed4f830f014",
   "metadata": {},
   "outputs": [],
   "source": []
  },
  {
   "cell_type": "code",
   "execution_count": null,
   "id": "f96a22fa-dfbb-4ef5-8c6f-40730afe8a23",
   "metadata": {},
   "outputs": [],
   "source": []
  },
  {
   "cell_type": "code",
   "execution_count": null,
   "id": "dacd2129-30b9-4fde-9287-26e5c3984687",
   "metadata": {},
   "outputs": [],
   "source": [
    "param_list = \", \".join(\":\" + key for key in values.keys())"
   ]
  },
  {
   "cell_type": "code",
   "execution_count": null,
   "id": "135eb47b-2ca9-4c08-be0d-37f8f2018160",
   "metadata": {},
   "outputs": [],
   "source": [
    "qry = f\"\"\"\n",
    "            INSERT INTO embedding(sentence_id, token_id, model, tensor, abstraction)\n",
    "            VALUES(\n",
    "            {param_list}\n",
    "            )  RETURNING *;\n",
    "            \"\"\""
   ]
  },
  {
   "cell_type": "code",
   "execution_count": 7,
   "id": "00b1651b-f80e-4126-86b1-91b8e53ba94d",
   "metadata": {},
   "outputs": [
    {
     "data": {
      "text/plain": [
       "10"
      ]
     },
     "execution_count": 7,
     "metadata": {},
     "output_type": "execute_result"
    }
   ],
   "source": [
    "len(p1)"
   ]
  },
  {
   "cell_type": "code",
   "execution_count": 57,
   "id": "bd7e4f25-1599-4523-b9cf-f4aa95916e7a",
   "metadata": {},
   "outputs": [],
   "source": [
    "parlist = []\n",
    "for i in p1:   \n",
    "    for j in list(i['words'].values()):\n",
    "        parItem = (\n",
    "        i['sentence_id'],\n",
    "        j['word_id'],\n",
    "        'elmo',\n",
    "        'word',\n",
    "        str(j['word_tensor']))\n",
    "        parlist.append(parItem)\n"
   ]
  },
  {
   "cell_type": "code",
   "execution_count": 58,
   "id": "82f25f19-f2f6-4692-b8c1-2ab976547b70",
   "metadata": {},
   "outputs": [],
   "source": [
    "for i in p2:   \n",
    "    for j in list(i['words'].values()):\n",
    "        parItem = (\n",
    "        i['sentence_id'],\n",
    "        j['word_id'],\n",
    "        'elmo',\n",
    "        'word',\n",
    "        str(j['word_tensor']))\n",
    "        parlist.append(parItem)"
   ]
  },
  {
   "cell_type": "code",
   "execution_count": 59,
   "id": "c9ff96e4-dfc4-4c71-b0ff-75709bf070e5",
   "metadata": {},
   "outputs": [],
   "source": [
    "cur = conn.cursor()"
   ]
  },
  {
   "cell_type": "code",
   "execution_count": 60,
   "id": "3904aed3-5cc2-4138-b6f6-54ef20ca405d",
   "metadata": {},
   "outputs": [],
   "source": [
    "conn.commit()"
   ]
  },
  {
   "cell_type": "code",
   "execution_count": null,
   "id": "47a94e12-4841-4616-8070-852f1aaae869",
   "metadata": {},
   "outputs": [],
   "source": [
    "for i in parlist:\n",
    "    param_list = i\n",
    "    qry = f\"\"\"\n",
    "            INSERT INTO embedding(sentence_id, token_id, model, abstraction, tensor)\n",
    "            VALUES\n",
    "            {param_list}\n",
    "              RETURNING *;\n",
    "            \"\"\"\n",
    "    #print(qry)\n",
    "    sql(qry)"
   ]
  },
  {
   "cell_type": "code",
   "execution_count": null,
   "id": "cb2a7861-089c-4909-babb-8d01d385a2c1",
   "metadata": {},
   "outputs": [],
   "source": []
  },
  {
   "cell_type": "code",
   "execution_count": null,
   "id": "cb68a10a-5378-41a1-8428-43305973f306",
   "metadata": {},
   "outputs": [],
   "source": []
  }
 ],
 "metadata": {
  "kernelspec": {
   "display_name": "Python 3",
   "language": "python",
   "name": "python3"
  },
  "language_info": {
   "codemirror_mode": {
    "name": "ipython",
    "version": 3
   },
   "file_extension": ".py",
   "mimetype": "text/x-python",
   "name": "python",
   "nbconvert_exporter": "python",
   "pygments_lexer": "ipython3",
   "version": "3.8.8"
  }
 },
 "nbformat": 4,
 "nbformat_minor": 5
}
