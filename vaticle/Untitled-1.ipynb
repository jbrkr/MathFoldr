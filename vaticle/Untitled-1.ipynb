{
 "cells": [
  {
   "cell_type": "code",
   "execution_count": 2,
   "metadata": {},
   "outputs": [
    {
     "name": "stdout",
     "output_type": "stream",
     "text": [
      "Collecting typedb-client\n",
      "  Downloading typedb-client-2.4.0.tar.gz (41 kB)\n",
      "\u001b[K     |████████████████████████████████| 41 kB 730 kB/s \n",
      "\u001b[?25hCollecting typedb-protocol==2.4.0\n",
      "  Downloading typedb-protocol-2.4.0.tar.gz (45 kB)\n",
      "\u001b[K     |████████████████████████████████| 45 kB 6.4 MB/s \n",
      "\u001b[?25hCollecting grpcio==1.38.0\n",
      "  Downloading grpcio-1.38.0-cp39-cp39-macosx_10_10_x86_64.whl (3.9 MB)\n",
      "\u001b[K     |████████████████████████████████| 3.9 MB 9.4 MB/s \n",
      "\u001b[?25hCollecting protobuf==3.15.5\n",
      "  Downloading protobuf-3.15.5-cp39-cp39-macosx_10_9_x86_64.whl (1.0 MB)\n",
      "\u001b[K     |████████████████████████████████| 1.0 MB 49.7 MB/s \n",
      "\u001b[?25hRequirement already satisfied: six>=1.5.2 in /usr/local/lib/python3.9/site-packages (from grpcio==1.38.0->typedb-client) (1.16.0)\n",
      "Building wheels for collected packages: typedb-client, typedb-protocol\n",
      "  Building wheel for typedb-client (setup.py) ... \u001b[?25ldone\n",
      "\u001b[?25h  Created wheel for typedb-client: filename=typedb_client-2.4.0-py2.py3-none-any.whl size=103775 sha256=78a834523bd8e9260dea9fe8159b709d81fa6f37f5dfa7ab14309a62efe6bccc\n",
      "  Stored in directory: /Users/joebrucker/Library/Caches/pip/wheels/ee/5b/88/ee6553c1327ab4545e8be068ac620947af6b8ba6472517d91c\n",
      "  Building wheel for typedb-protocol (setup.py) ... \u001b[?25ldone\n",
      "\u001b[?25h  Created wheel for typedb-protocol: filename=typedb_protocol-2.4.0-py2.py3-none-any.whl size=59824 sha256=bc286d3f20068c9708e985c7d77ca87d2c12bdd4cb3d3025a0d3acfba8e91c39\n",
      "  Stored in directory: /Users/joebrucker/Library/Caches/pip/wheels/48/b1/ca/3592a8e942d49f730e699ad60242af774c0ff4cfd2042199ed\n",
      "Successfully built typedb-client typedb-protocol\n",
      "Installing collected packages: typedb-protocol, protobuf, grpcio, typedb-client\n",
      "  Attempting uninstall: protobuf\n",
      "    Found existing installation: protobuf 3.18.0\n",
      "    Uninstalling protobuf-3.18.0:\n",
      "      Successfully uninstalled protobuf-3.18.0\n",
      "Successfully installed grpcio-1.38.0 protobuf-3.15.5 typedb-client-2.4.0 typedb-protocol-2.4.0\n",
      "\u001b[33mWARNING: You are using pip version 21.1.3; however, version 21.2.4 is available.\n",
      "You should consider upgrading via the '/usr/local/opt/python@3.9/bin/python3.9 -m pip install --upgrade pip' command.\u001b[0m\n",
      "Note: you may need to restart the kernel to use updated packages.\n"
     ]
    }
   ],
   "source": [
    "pip install typedb-client\n"
   ]
  },
  {
   "cell_type": "code",
   "execution_count": 6,
   "metadata": {},
   "outputs": [],
   "source": [
    "from typedb.client import *"
   ]
  },
  {
   "cell_type": "code",
   "execution_count": 14,
   "metadata": {},
   "outputs": [
    {
     "data": {
      "text/plain": [
       "[<typedb.connection.database._TypeDBDatabaseImpl at 0x108eea3d0>]"
      ]
     },
     "execution_count": 14,
     "metadata": {},
     "output_type": "execute_result"
    }
   ],
   "source": [
    "with TypeDB.core_client(\"localhost:1729\") as client:\n",
    "    dbs = client.databases().all()\n",
    "\n",
    "dbs"
   ]
  },
  {
   "cell_type": "code",
   "execution_count": 12,
   "metadata": {},
   "outputs": [],
   "source": [
    "with TypeDB.core_client(\"localhost:1729\") as client:\n",
    "    client.databases().create(\"nlp twitter\")"
   ]
  },
  {
   "cell_type": "code",
   "execution_count": 16,
   "metadata": {},
   "outputs": [
    {
     "ename": "AttributeError",
     "evalue": "'_CoreClient' object has no attribute 'users'",
     "output_type": "error",
     "traceback": [
      "\u001b[0;31m---------------------------------------------------------------------------\u001b[0m",
      "\u001b[0;31mAttributeError\u001b[0m                            Traceback (most recent call last)",
      "\u001b[0;32m/var/folders/td/nzb78qqd0xz7h39nlx37nt8w0000gn/T/ipykernel_11647/3652555442.py\u001b[0m in \u001b[0;36m<module>\u001b[0;34m\u001b[0m\n\u001b[1;32m      1\u001b[0m \u001b[0;32mwith\u001b[0m \u001b[0mTypeDB\u001b[0m\u001b[0;34m.\u001b[0m\u001b[0mcore_client\u001b[0m\u001b[0;34m(\u001b[0m\u001b[0;34m\"localhost:1729\"\u001b[0m\u001b[0;34m)\u001b[0m \u001b[0;32mas\u001b[0m \u001b[0mclient\u001b[0m\u001b[0;34m:\u001b[0m\u001b[0;34m\u001b[0m\u001b[0;34m\u001b[0m\u001b[0m\n\u001b[0;32m----> 2\u001b[0;31m     \u001b[0mclient\u001b[0m\u001b[0;34m.\u001b[0m\u001b[0musers\u001b[0m\u001b[0;34m(\u001b[0m\u001b[0;34m)\u001b[0m\u001b[0;34m.\u001b[0m\u001b[0mcreate\u001b[0m\u001b[0;34m(\u001b[0m\u001b[0;34m\"admin\"\u001b[0m\u001b[0;34m)\u001b[0m\u001b[0;34m\u001b[0m\u001b[0;34m\u001b[0m\u001b[0m\n\u001b[0m",
      "\u001b[0;31mAttributeError\u001b[0m: '_CoreClient' object has no attribute 'users'"
     ]
    }
   ],
   "source": [
    "with TypeDB.core_client(\"localhost:1729\") as client:\n",
    "    client.users().create(\"admin\")"
   ]
  },
  {
   "cell_type": "code",
   "execution_count": null,
   "metadata": {},
   "outputs": [],
   "source": []
  },
  {
   "cell_type": "code",
   "execution_count": null,
   "metadata": {},
   "outputs": [],
   "source": [
    "\n",
    "with TypeDB.core_client(\"localhost:1729\") as client:\n",
    "    with client.session(\"social_network\", SessionType.DATA) as session:\n",
    "        ## Insert a Person using a WRITE transaction\n",
    "        with session.transaction(TransactionType.WRITE) as write_transaction:\n",
    "            insert_iterator = write_transaction.query().insert('insert $x isa person, has email \"x@email.com\";')\n",
    "            concepts = [ans.get(\"x\") for ans in insert_iterator]\n",
    "            print(\"Inserted a person with ID: {0}\".format(concepts[0].get_iid()))\n",
    "            ## to persist changes, write transaction must always be committed (closed)\n",
    "            write_transaction.commit()\n",
    "\n",
    "        ## Read the person using a READ only transaction\n",
    "        with session.transaction(TransactionType.READ) as read_transaction:\n",
    "            answer_iterator = read_transaction.query().match(\"match $x isa person; get $x; limit 10;\")\n",
    "\n",
    "            for answer in answer_iterator:\n",
    "                person = answer.get(\"x\")\n",
    "                print(\"Retrieved person with id \" + person.get_iid())\n",
    "\n",
    "        ## Or query and consume the iterator immediately collecting all the results\n",
    "        with session.transaction(TransactionType.READ) as read_transaction:\n",
    "            answer_iterator = read_transaction.query().match(\"match $x isa person; get $x; limit 10;\")\n",
    "            persons = [ans.get(\"x\") for ans in answer_iterator]\n",
    "            for person in persons:\n",
    "                print(\"Retrieved person with id \" + person.get_iid())\n",
    "\n",
    "        ## if not using a `with` statement, then we must always close the session and the read transaction\n",
    "        # read_transaction.close()\n",
    "        # session.close()\n",
    "        # client.close()"
   ]
  },
  {
   "cell_type": "code",
   "execution_count": null,
   "metadata": {},
   "outputs": [],
   "source": [
    "define\n",
    "  employment sub relation, relates employee, relates employer; \n",
    "  person sub entity, plays employment:employee;\n",
    "  company sub entity, plays employment:employer;"
   ]
  }
 ],
 "metadata": {
  "interpreter": {
   "hash": "aee8b7b246df8f9039afb4144a1f6fd8d2ca17a180786b69acc140d282b71a49"
  },
  "kernelspec": {
   "display_name": "Python 3.9.6 64-bit",
   "name": "python3"
  },
  "language_info": {
   "codemirror_mode": {
    "name": "ipython",
    "version": 3
   },
   "file_extension": ".py",
   "mimetype": "text/x-python",
   "name": "python",
   "nbconvert_exporter": "python",
   "pygments_lexer": "ipython3",
   "version": "3.9.6"
  },
  "orig_nbformat": 4
 },
 "nbformat": 4,
 "nbformat_minor": 2
}
