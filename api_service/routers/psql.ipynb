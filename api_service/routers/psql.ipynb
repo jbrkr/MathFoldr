{
 "cells": [
  {
   "cell_type": "code",
   "execution_count": 63,
   "source": [
    "import psycopg2\n",
    "from configparser import ConfigParser"
   ],
   "outputs": [],
   "metadata": {}
  },
  {
   "cell_type": "code",
   "execution_count": 86,
   "source": [
    "host=\"database-1.c1ynrvwy2f44.us-east-2.rds.amazonaws.com\"\n",
    "port=\"5432\" \n",
    "username=\"postgres\" \n",
    "password=\"mathfoldr\"\n",
    "dbname=\"postgres\""
   ],
   "outputs": [],
   "metadata": {}
  },
  {
   "cell_type": "code",
   "execution_count": 87,
   "source": [
    "conn = psycopg2.connect(\n",
    "    host=host,\n",
    "    database=dbname,\n",
    "    user=username,\n",
    "    password=password)"
   ],
   "outputs": [],
   "metadata": {}
  },
  {
   "cell_type": "code",
   "execution_count": 88,
   "source": [
    "cur = conn.cursor()"
   ],
   "outputs": [],
   "metadata": {}
  },
  {
   "cell_type": "code",
   "execution_count": 20,
   "source": [
    "#print('PostgreSQL database version:')\n",
    "#cur.execute('SELECT version()')\n",
    "#db_version = cur.fetchone()\n",
    "#print(db_version)"
   ],
   "outputs": [],
   "metadata": {}
  },
  {
   "cell_type": "code",
   "execution_count": 70,
   "source": [
    "#conn.commit()"
   ],
   "outputs": [],
   "metadata": {}
  },
  {
   "cell_type": "code",
   "execution_count": 6,
   "source": [
    "def sql(query):\n",
    "    cur.execute(query)\n",
    "    output = cur.fetchone()\n",
    "    conn.commit()\n",
    "    return output"
   ],
   "outputs": [],
   "metadata": {}
  },
  {
   "cell_type": "code",
   "execution_count": 7,
   "source": [
    "sql('SELECT version()')"
   ],
   "outputs": [
    {
     "output_type": "execute_result",
     "data": {
      "text/plain": [
       "('PostgreSQL 12.5 on x86_64-pc-linux-gnu, compiled by gcc (GCC) 4.8.3 20140911 (Red Hat 4.8.3-9), 64-bit',)"
      ]
     },
     "metadata": {},
     "execution_count": 7
    }
   ],
   "metadata": {}
  },
  {
   "cell_type": "code",
   "execution_count": null,
   "source": [],
   "outputs": [],
   "metadata": {}
  },
  {
   "cell_type": "code",
   "execution_count": 8,
   "source": [
    "pth_ud_full = '/Users/joebrucker/Programming/frontEnd/MathFoldr/api_service/routers/udpipe2_nlab_wordlevel.csv'\n",
    "pth_st_part = '/Users/joebrucker/Programming/frontEnd/MathFoldr/api_service/routers/stanza_nlab_wordlevel_so_far.csv'"
   ],
   "outputs": [],
   "metadata": {}
  },
  {
   "cell_type": "code",
   "execution_count": 9,
   "source": [
    "import csv"
   ],
   "outputs": [],
   "metadata": {}
  },
  {
   "cell_type": "code",
   "execution_count": 10,
   "source": [
    "def read_to_list(path):\n",
    "    tupList = []\n",
    "    with open(path, newline='') as csvfile:\n",
    "        creader = csv.reader(csvfile, delimiter='\\t')\n",
    "        for row in creader:\n",
    "            tupList.append(row)\n",
    "    return tupList"
   ],
   "outputs": [],
   "metadata": {}
  },
  {
   "cell_type": "code",
   "execution_count": 11,
   "source": [
    "uddd = read_to_list(pth_ud_full)"
   ],
   "outputs": [],
   "metadata": {}
  },
  {
   "cell_type": "code",
   "execution_count": 12,
   "source": [
    "len(uddd)"
   ],
   "outputs": [
    {
     "output_type": "execute_result",
     "data": {
      "text/plain": [
       "9204700"
      ]
     },
     "metadata": {},
     "execution_count": 12
    }
   ],
   "metadata": {}
  },
  {
   "cell_type": "code",
   "execution_count": null,
   "source": [],
   "outputs": [],
   "metadata": {}
  },
  {
   "cell_type": "code",
   "execution_count": 13,
   "source": [
    "for i in uddd:\n",
    "    i.append('udpipe_2')"
   ],
   "outputs": [],
   "metadata": {}
  },
  {
   "cell_type": "code",
   "execution_count": 14,
   "source": [
    "uddd[0] = ['document_id', \n",
    "          'doc_title',\n",
    " 'sentence_id',\n",
    " 'document',\n",
    " '_gap_1',\n",
    " 'text',\n",
    " 'lemma',\n",
    " 'upos',\n",
    " 'xpos',\n",
    " 'feats',\n",
    " 'head',\n",
    " 'deprel',\n",
    " '_gap_2',\n",
    " '_gap_3', \n",
    "'model']"
   ],
   "outputs": [],
   "metadata": {}
  },
  {
   "cell_type": "code",
   "execution_count": 15,
   "source": [
    "ud2 = []\n",
    "for i in uddd:\n",
    "    j = [\n",
    "        i[0],\n",
    "        i[1],\n",
    "        i[2],\n",
    "        i[3],\n",
    "        i[5],\n",
    "        i[6],\n",
    "        i[7],\n",
    "        i[8],\n",
    "        i[9],\n",
    "        i[10],\n",
    "        i[11],\n",
    "        i[14]\n",
    "    ]\n",
    "    ud2.append(j)"
   ],
   "outputs": [],
   "metadata": {}
  },
  {
   "cell_type": "code",
   "execution_count": 16,
   "source": [
    "ud2[0]"
   ],
   "outputs": [
    {
     "output_type": "execute_result",
     "data": {
      "text/plain": [
       "['document_id',\n",
       " 'doc_title',\n",
       " 'sentence_id',\n",
       " 'document',\n",
       " 'text',\n",
       " 'lemma',\n",
       " 'upos',\n",
       " 'xpos',\n",
       " 'feats',\n",
       " 'head',\n",
       " 'deprel',\n",
       " 'model']"
      ]
     },
     "metadata": {},
     "execution_count": 16
    }
   ],
   "metadata": {}
  },
  {
   "cell_type": "code",
   "execution_count": 17,
   "source": [
    "filename = 'reord_ud.csv'\n",
    "import csv    \n",
    "# writing to csv file \n",
    "with open(filename, 'w') as csvfile: \n",
    "    # creating a csv writer object \n",
    "    csvwriter = csv.writer(csvfile) \n",
    "    csvwriter.writerows(ud2)"
   ],
   "outputs": [],
   "metadata": {}
  },
  {
   "cell_type": "code",
   "execution_count": null,
   "source": [
    "import csv\n",
    "with open('reord_ud.csv', 'w', newline='') as csvfile:\n",
    "    spamwriter = csv.writer(csvfile, delimiter=' ',\n",
    "                            quotechar='|', quoting=csv.QUOTE_MINIMAL)\n",
    "    spamwriter.writerow(['Spam'] * 5 + ['Baked Beans'])\n",
    "    spamwriter.writerow(['Spam', 'Lovely Spam', 'Wonderful Spam'])"
   ],
   "outputs": [],
   "metadata": {}
  },
  {
   "cell_type": "code",
   "execution_count": null,
   "source": [
    "document_id,\n",
    "    sentence_id integer,\n",
    "    text text,\n",
    "    lemma text,\n",
    "    upos text,\n",
    "    xpos text,\n",
    "    feats text,\n",
    "    head integer,\n",
    "    deprel text,\n",
    "    start_char integer,\n",
    "    end_char integer,\n",
    "    ner text,\n",
    "    model text"
   ],
   "outputs": [],
   "metadata": {}
  },
  {
   "cell_type": "code",
   "execution_count": 17,
   "source": [
    "udTupListT = []\n",
    "\n",
    "for i in uddd:\n",
    "    reord = (i[0],  # doc id\n",
    "             i[2],  # sent id\n",
    "             i[6], # text\n",
    "             i[7], # lemma\n",
    "             i[9], # upos\n",
    "             i[8], # xpos\n",
    "             i[10], # feats\n",
    "             i[11], # head\n",
    "             i[12], # deprel\n",
    "             'udpipe_2' # model\n",
    "            )\n",
    "    udTupListT.append(reord)"
   ],
   "outputs": [],
   "metadata": {}
  },
  {
   "cell_type": "code",
   "execution_count": 18,
   "source": [
    "len(udTupListT)"
   ],
   "outputs": [
    {
     "output_type": "execute_result",
     "data": {
      "text/plain": [
       "9204700"
      ]
     },
     "metadata": {},
     "execution_count": 18
    }
   ],
   "metadata": {}
  },
  {
   "cell_type": "code",
   "execution_count": 24,
   "source": [
    "udTupListT[:3]"
   ],
   "outputs": [
    {
     "output_type": "execute_result",
     "data": {
      "text/plain": [
       "[('document_id',\n",
       "  'sentence_id',\n",
       "  'lemma',\n",
       "  'upos',\n",
       "  'feats',\n",
       "  'xpos',\n",
       "  'head',\n",
       "  'deprel',\n",
       "  '_gap_2',\n",
       "  'udpipe_2'),\n",
       " ('0', '1', '#', 'SYM', '_', 'NFP', '3', 'compound', '_', 'udpipe_2'),\n",
       " ('1', '1', '#', 'SYM', '_', 'NFP', '3', 'compound', '_', 'udpipe_2')]"
      ]
     },
     "metadata": {},
     "execution_count": 24
    }
   ],
   "metadata": {}
  },
  {
   "cell_type": "code",
   "execution_count": null,
   "source": [],
   "outputs": [],
   "metadata": {}
  },
  {
   "cell_type": "code",
   "execution_count": 19,
   "source": [
    "pass1 = udTupListT[:1000]"
   ],
   "outputs": [],
   "metadata": {}
  },
  {
   "cell_type": "code",
   "execution_count": 30,
   "source": [
    "pass1_1 = []\n",
    "for i in pass1:\n",
    "    if \"''\" in i:\n",
    "        j = list(i)\n",
    "        j = [x if x != \"''\" else 'None' for x in j]\n",
    "        i = tuple(j)\n",
    "    pass1_1.append(i)"
   ],
   "outputs": [],
   "metadata": {}
  },
  {
   "cell_type": "code",
   "execution_count": null,
   "source": [
    "xxtext | xxlemma | xxupos | xxxpos | xxfeats | xxdeprel | ner | xxmodel | xxdocument_id | xxsentence_id | xxhead | start_char | end_char"
   ],
   "outputs": [],
   "metadata": {}
  },
  {
   "cell_type": "code",
   "execution_count": 33,
   "source": [
    "tup = pass1_1[1:]\n",
    "ar = ', '.join(str(i) for i in tup)\n",
    "cur.execute(\"INSERT INTO token_tags(document_id,sentence_id,text,lemma,xpos,upos,feats,head,deprel,model) VALUES \" + ar) "
   ],
   "outputs": [],
   "metadata": {}
  },
  {
   "cell_type": "code",
   "execution_count": 42,
   "source": [
    "conn.commit()"
   ],
   "outputs": [],
   "metadata": {}
  },
  {
   "cell_type": "code",
   "execution_count": 40,
   "source": [
    "pass2 = udTupListT[1000:5000]\n",
    "pass2_1 = []\n",
    "for i in pass2:\n",
    "    if \"''\" in i or \"'\" in i or \"'s\" in i:\n",
    "        j = list(i)\n",
    "        j = [x if x != \"''\" else 'None' for x in j]\n",
    "        j = [x if x != \"'\" else 'None' for x in j]\n",
    "        j = [x if x != \"'s\" else 's' for x in j]\n",
    "        i = tuple(j)\n",
    "    pass2_1.append(i)"
   ],
   "outputs": [],
   "metadata": {}
  },
  {
   "cell_type": "code",
   "execution_count": 43,
   "source": [
    "tup = pass2_1\n",
    "ar = ', '.join(str(i) for i in tup)\n",
    "cur.execute(\"INSERT INTO token_tags(document_id,sentence_id,text,lemma,xpos,upos,feats,head,deprel,model) VALUES \" + ar) "
   ],
   "outputs": [],
   "metadata": {}
  },
  {
   "cell_type": "code",
   "execution_count": 78,
   "source": [
    "rem = 9204700-700000\n",
    "tim = rem / 3000\n",
    "tim / 60"
   ],
   "outputs": [
    {
     "output_type": "execute_result",
     "data": {
      "text/plain": [
       "47.248333333333335"
      ]
     },
     "metadata": {},
     "execution_count": 78
    }
   ],
   "metadata": {}
  },
  {
   "cell_type": "code",
   "execution_count": null,
   "source": [
    "pass5 = udTupListT[700000:1700000]"
   ],
   "outputs": [],
   "metadata": {}
  },
  {
   "cell_type": "code",
   "execution_count": 89,
   "source": [
    "for i in range(86):\n",
    "    i = i+7\n",
    "    i = i* 100000\n",
    "    j = i+100000\n",
    "\n",
    "    pas = udTupListT[i:j]\n",
    "    pas_1 = []\n",
    "    for k in pas:\n",
    "        m = list(k)\n",
    "        for n in range(len(m)):\n",
    "            m[n].replace(\"'\",\"\")\n",
    "        k = tuple(m)\n",
    "        pas_1.append(k)\n",
    "\n",
    "\n",
    "    p2 = []\n",
    "    for ik in pas_1:\n",
    "        jk = list(ik)\n",
    "        for kk in jk:\n",
    "            jk = [x.replace(\"'\",\"\") for x in jk]\n",
    "\n",
    "        ik = tuple(jk)\n",
    "    \n",
    "        p2.append(ik)\n",
    "\n",
    "    \n",
    "\n",
    "    tup = p2\n",
    "    ar = ', '.join(str(ind) for ind in tup)\n",
    "    cur.execute(\"INSERT INTO token_tags(document_id,sentence_id,text,lemma,xpos,upos,feats,head,deprel,model) VALUES \" + ar) \n",
    "    conn.commit()\n"
   ],
   "outputs": [],
   "metadata": {}
  },
  {
   "cell_type": "code",
   "execution_count": 79,
   "source": [
    "pass5 = udTupListT[700000:1700000]\n",
    "pass5_1 = []\n",
    "for i in pass5:\n",
    "    j = list(i)\n",
    "    for k in range(len(j)):\n",
    "        j[k].replace(\"'\", \"\")\n",
    "\n",
    "\n",
    "\n",
    "\n",
    "\n",
    "    if \"''\" in j or \"'\" in j or \"'s\" in j or \"'04\" in j or \"'71\" in j or \"'92\" in j or \"'\" in j[:1] or \"'\" in j or \"'alternative\" in j:\n",
    "        \n",
    "        j = [x if x != \"''\" else 'None' for x in j]\n",
    "        j = [x if x != \"'\" else 'None' for x in j]\n",
    "        j = [x if x != \"'s\" else 's' for x in j]\n",
    "        j = [x if x != \"'04\" else \"04\" for x in j]\n",
    "        j = [x if x != \"'71\" else \"71\" for x in j]\n",
    "        j = [x if x != \"'92\" else \"92\" for x in j]\n",
    "        j = [x if x[:1] != \"'\" else x[1:] for x in j]\n",
    "        j = [x if x != \"'alternative\" else \"alternative\" for x in j]\n",
    "    \n",
    "    for k in range(len(j)):\n",
    "        j[k].replace(\"'\", '')\n",
    "        if j[k][:1] ==\"'\":\n",
    "            j[k] = j[k][1:]\n",
    "                \n",
    "\n",
    "        \n",
    "    i = tuple(j)\n",
    "    \n",
    "    pass5_1.append(i)\n",
    "\n",
    "p512 = []\n",
    "for i in pass5_1:\n",
    "    j = list(i)\n",
    "    for k in j:\n",
    "        j = [x.replace(\"'\",\"\") for x in j]\n",
    "\n",
    "    i = tuple(j)\n",
    "    \n",
    "    p512.append(i)"
   ],
   "outputs": [],
   "metadata": {}
  },
  {
   "cell_type": "code",
   "execution_count": 80,
   "source": [
    "p512 = []\n",
    "for i in pass5_1:\n",
    "    j = list(i)\n",
    "    for k in j:\n",
    "        j = [x.replace(\"'\",\"\") for x in j]\n",
    "\n",
    "    i = tuple(j)\n",
    "    \n",
    "    p512.append(i)\n",
    "    "
   ],
   "outputs": [],
   "metadata": {}
  },
  {
   "cell_type": "code",
   "execution_count": 81,
   "source": [
    "conn.commit()\n",
    "\n",
    "tup = p512\n",
    "ar = ', '.join(str(i) for i in tup)\n",
    "cur.execute(\"INSERT INTO token_tags(document_id,sentence_id,text,lemma,xpos,upos,feats,head,deprel,model) VALUES \" + ar) "
   ],
   "outputs": [
    {
     "output_type": "error",
     "ename": "OperationalError",
     "evalue": "SSL SYSCALL error: EOF detected\n",
     "traceback": [
      "\u001b[0;31m---------------------------------------------------------------------------\u001b[0m",
      "\u001b[0;31mOperationalError\u001b[0m                          Traceback (most recent call last)",
      "\u001b[0;32m<ipython-input-81-cbb8e80d9cf6>\u001b[0m in \u001b[0;36m<module>\u001b[0;34m\u001b[0m\n\u001b[1;32m      3\u001b[0m \u001b[0mtup\u001b[0m \u001b[0;34m=\u001b[0m \u001b[0mp512\u001b[0m\u001b[0;34m\u001b[0m\u001b[0;34m\u001b[0m\u001b[0m\n\u001b[1;32m      4\u001b[0m \u001b[0mar\u001b[0m \u001b[0;34m=\u001b[0m \u001b[0;34m', '\u001b[0m\u001b[0;34m.\u001b[0m\u001b[0mjoin\u001b[0m\u001b[0;34m(\u001b[0m\u001b[0mstr\u001b[0m\u001b[0;34m(\u001b[0m\u001b[0mi\u001b[0m\u001b[0;34m)\u001b[0m \u001b[0;32mfor\u001b[0m \u001b[0mi\u001b[0m \u001b[0;32min\u001b[0m \u001b[0mtup\u001b[0m\u001b[0;34m)\u001b[0m\u001b[0;34m\u001b[0m\u001b[0;34m\u001b[0m\u001b[0m\n\u001b[0;32m----> 5\u001b[0;31m \u001b[0mcur\u001b[0m\u001b[0;34m.\u001b[0m\u001b[0mexecute\u001b[0m\u001b[0;34m(\u001b[0m\u001b[0;34m\"INSERT INTO token_tags(document_id,sentence_id,text,lemma,xpos,upos,feats,head,deprel,model) VALUES \"\u001b[0m \u001b[0;34m+\u001b[0m \u001b[0mar\u001b[0m\u001b[0;34m)\u001b[0m\u001b[0;34m\u001b[0m\u001b[0;34m\u001b[0m\u001b[0m\n\u001b[0m",
      "\u001b[0;31mOperationalError\u001b[0m: SSL SYSCALL error: EOF detected\n"
     ]
    }
   ],
   "metadata": {}
  },
  {
   "cell_type": "code",
   "execution_count": 68,
   "source": [
    "a = \"g'eom\"\n",
    "a.replace(\"'\",\"\")"
   ],
   "outputs": [
    {
     "output_type": "execute_result",
     "data": {
      "text/plain": [
       "'geom'"
      ]
     },
     "metadata": {},
     "execution_count": 68
    }
   ],
   "metadata": {}
  },
  {
   "cell_type": "code",
   "execution_count": null,
   "source": [],
   "outputs": [],
   "metadata": {}
  },
  {
   "cell_type": "code",
   "execution_count": null,
   "source": [],
   "outputs": [],
   "metadata": {}
  },
  {
   "cell_type": "code",
   "execution_count": null,
   "source": [
    "tup = tupListT[1:]\n",
    "ar = ', '.join(str(i) for i in tup)\n",
    "cur.execute(\"INSERT INTO \\\n",
    "            token_tags(document_id,sentence_id,\\\n",
    "            text,lemma,xpos,upos,feats,head,\\\n",
    "            deprel,start_char,end_char,ner,model) VALUES \" + ar) "
   ],
   "outputs": [],
   "metadata": {}
  },
  {
   "cell_type": "code",
   "execution_count": null,
   "source": [],
   "outputs": [],
   "metadata": {}
  },
  {
   "cell_type": "code",
   "execution_count": null,
   "source": [],
   "outputs": [],
   "metadata": {}
  },
  {
   "cell_type": "code",
   "execution_count": 49,
   "source": [
    "tupListT = []\n",
    "\n",
    "\n",
    "for i in tupList:\n",
    "    tupListT.append(tuple(i[:12]+['stanza']))"
   ],
   "outputs": [],
   "metadata": {}
  },
  {
   "cell_type": "code",
   "execution_count": null,
   "source": [],
   "outputs": [],
   "metadata": {}
  },
  {
   "cell_type": "code",
   "execution_count": null,
   "source": [
    "cols = [document_id\n",
    "sentence_id\n",
    "text\n",
    "lemma\n",
    "xpos\n",
    "upos\n",
    "feats\n",
    "head\n",
    "deprel\n",
    "start_char\n",
    "end_char\n",
    "ner\n",
    "model]"
   ],
   "outputs": [],
   "metadata": {}
  },
  {
   "cell_type": "code",
   "execution_count": null,
   "source": [
    "#tup = tuple(several_rows_of_values)\n",
    "#args_str = ','.join(cur.mogrify(\"(%s,%s,%s,%s,%s,%s,%s,%s,%s,%s,%s,%s,%s)\", x) for x in tup)"
   ],
   "outputs": [],
   "metadata": {}
  },
  {
   "cell_type": "code",
   "execution_count": null,
   "source": [
    "tup = tupListT[1:]\n",
    "ar = ', '.join(str(i) for i in tup)\n",
    "cur.execute(\"INSERT INTO \\\n",
    "            token_tags(document_id,sentence_id,\\\n",
    "            text,lemma,xpos,upos,feats,head,\\\n",
    "            deprel,start_char,end_char,ner,model) VALUES \" + ar) "
   ],
   "outputs": [],
   "metadata": {}
  },
  {
   "cell_type": "code",
   "execution_count": null,
   "source": [
    "conn.commit()"
   ],
   "outputs": [],
   "metadata": {}
  },
  {
   "cell_type": "code",
   "execution_count": 90,
   "source": [
    "stt = read_to_list(pth_st_part)"
   ],
   "outputs": [],
   "metadata": {}
  },
  {
   "cell_type": "code",
   "execution_count": 94,
   "source": [
    "stt[2]"
   ],
   "outputs": [
    {
     "output_type": "execute_result",
     "data": {
      "text/plain": [
       "['1',\n",
       " '2',\n",
       " 'Farjoun',\n",
       " 'Farjoun',\n",
       " 'PROPN',\n",
       " 'NNP',\n",
       " 'Number=Sing',\n",
       " '1',\n",
       " 'flat',\n",
       " '2060',\n",
       " '2067',\n",
       " 'E-ORG',\n",
       " '0',\n",
       " '30']"
      ]
     },
     "metadata": {},
     "execution_count": 94
    }
   ],
   "metadata": {}
  },
  {
   "cell_type": "code",
   "execution_count": null,
   "source": [],
   "outputs": [],
   "metadata": {}
  },
  {
   "cell_type": "code",
   "execution_count": null,
   "source": [
    "stTupListT = []\n",
    "\n",
    "for i in stt:\n",
    "    reord_st = (i[12], i[13],\n",
    "                i[2], i[3], i[5], \n",
    "                i[4], i[6], i[7],\n",
    "                i[8], i[9], i[10], \n",
    "                i[11], 'stanza')\n",
    "    stTupListT.append(reord_st)"
   ],
   "outputs": [],
   "metadata": {}
  },
  {
   "cell_type": "code",
   "execution_count": null,
   "source": [
    "tup = tupListT[1:]\n",
    "ar = ', '.join(str(i) for i in tup)\n",
    "cur.execute(\"INSERT INTO \\\n",
    "            token_tags(document_id,sentence_id,\\\n",
    "            text,lemma,xpos,upos,feats,head,\\\n",
    "            deprel,start_char,end_char,ner,model) VALUES \" + ar) "
   ],
   "outputs": [],
   "metadata": {}
  },
  {
   "cell_type": "code",
   "execution_count": null,
   "source": [
    "#conn.close()"
   ],
   "outputs": [],
   "metadata": {}
  }
 ],
 "metadata": {
  "kernelspec": {
   "name": "python3",
   "display_name": "Python 3.8.8 64-bit ('anaconda3': virtualenv)"
  },
  "language_info": {
   "codemirror_mode": {
    "name": "ipython",
    "version": 3
   },
   "file_extension": ".py",
   "mimetype": "text/x-python",
   "name": "python",
   "nbconvert_exporter": "python",
   "pygments_lexer": "ipython3",
   "version": "3.8.8"
  },
  "interpreter": {
   "hash": "e134e05457d34029b6460cd73bbf1ed73f339b5b6d98c95be70b69eba114fe95"
  }
 },
 "nbformat": 4,
 "nbformat_minor": 5
}