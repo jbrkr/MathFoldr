{
 "cells": [
  {
   "cell_type": "code",
   "execution_count": 9,
   "id": "505b3ffc",
   "metadata": {},
   "outputs": [],
   "source": [
    "authcode = '0AX4XfWjH4suIycmtLbVit5KZMl3lElI0WRVsrlRhiXfVrKOAUMrXhLr83c6yDahIu2oZZA'\n",
    "refreshtoken = '1//04WmXKd6j_BW4CgYIARAAGAQSNwF-L9IrTbSImko0YG-DqyYYo0SboiVmprW3elOyR-9fU5PF60Ib1inUd9pJUifiaK3I0_S3nkY'\n",
    "accesstoken = 'ya29.a0ARrdaM-HcM8AKSwFLywI9FE-4-8BsRqFBpRONcSQ0QvEQjUSI0B72qoQr8Co3DzPvy3dGJddWBZaoRdRysUAuiPkIwZoh8JndCB4n1RxxyywYESghTselsjIy0f203nTVyS1G8bPe_VMzwdX8JMm5oin9It6'\n",
    "\n"
   ]
  },
  {
   "cell_type": "code",
   "execution_count": 8,
   "id": "59f8172a",
   "metadata": {},
   "outputs": [],
   "source": [
    "import requests\n",
    "import json\n",
    "import csv"
   ]
  },
  {
   "cell_type": "code",
   "execution_count": 12,
   "id": "5e21e7fc",
   "metadata": {},
   "outputs": [],
   "source": [
    "fileListUrl = 'https://www.googleapis.com/drive/v3/files'"
   ]
  },
  {
   "cell_type": "code",
   "execution_count": 17,
   "id": "ffa4495c",
   "metadata": {},
   "outputs": [],
   "source": [
    "fl1 = requests.get(fileListUrl, params={'access_token': accesstoken})"
   ]
  },
  {
   "cell_type": "code",
   "execution_count": 21,
   "id": "e3e8dd38",
   "metadata": {},
   "outputs": [
    {
     "data": {
      "text/plain": [
       "4"
      ]
     },
     "execution_count": 21,
     "metadata": {},
     "output_type": "execute_result"
    }
   ],
   "source": [
    "flist = fl1.json()\n",
    "len(flist)"
   ]
  },
  {
   "cell_type": "code",
   "execution_count": 34,
   "id": "60875d03",
   "metadata": {
    "scrolled": true
   },
   "outputs": [
    {
     "name": "stdout",
     "output_type": "stream",
     "text": [
      "stanza_nlab_remaining.json\n",
      "1BTVXrzVreG-3U9A9D5thxs9h2BzxFLCP\n",
      "stanza_nlab_remaining.json\n",
      "1T85252x4bppTt6BT2pIJCS_wYZLlnol-\n",
      "stanza_nlab_10000.json\n",
      "1sHDrEWQMk-y2Io6pQc7qPuFOmetHgJTa\n",
      "stanza_nlab_9750.json\n",
      "1bg42tc4X4_c-9Yp8RXAyDiKy568n5y6o\n",
      "stanza_nlab_9500.json\n",
      "13z1bkkvBOhg6HdHdC4qIW9mf0jN-HCu-\n",
      "stanza_nlab_9250.json\n",
      "1G6wfh122h5s2EUHTRF1Rcgq1wwkpTBZ2\n",
      "stanza_nlab_9000.json\n",
      "1qUFkEnfZm1eGxNpzvjlZqwtURVPvJe4U\n",
      "stanza_nlab_8750.json\n",
      "1Ee-T_qO8Z_dwkFaV6b9aV72xQRyh258U\n",
      "stanza_nlab_8500.json\n",
      "1NjToyyh0jYoCfr4Fhe2oRiPbB1FkxFBF\n",
      "stanza_nlab_8250.json\n",
      "1bvwOn6Gs4FaZzmjYoKQU3neJe3PUB1h9\n",
      "stanza_nlab_8000.json\n",
      "1y9KmNOGqXm8FoPTIfRg6b3Sn5zUWdfJF\n",
      "stanza_nlab_7750.json\n",
      "1lGOjLRMLNhGksks8dk9HK6ht8rdvqX3b\n",
      "stanza_nlab_7500.json\n",
      "1JUROAMw8u8LtHb1T1XByBjAOzOUmm44U\n",
      "stanza_nlab_7250.json\n",
      "1EbfkW9L7i4xBIiwsZm7WjDtvDrhwSLI7\n",
      "stanza_nlab_7000.json\n",
      "1W5ghASzGeVVdWOffbQGobXATueTyqfrb\n",
      "stanza_nlab_6750.json\n",
      "169NmQXXgB9knZEsljCWXdJfVPWrjYXHy\n",
      "stanza_nlab_6500.json\n",
      "16x6e_R_5IiBlbEi5KY2wz7EkZmWQLHDA\n",
      "stanza_nlab_6250.json\n",
      "1c-N8CVFEBaYiY7rMPSrCss_-hZtYW2WA\n",
      "stanza_nlab_6000.json\n",
      "1T_twawTcXj9OG5rN_OxRCqb1zj7Jy6qZ\n",
      "stanza_nlab_5750.json\n",
      "1dxVpQmyvULchhnsLgJux67WEKbhiezmo\n",
      "stanza_nlab_5500.json\n",
      "1e9U9VYEvIwwhWJDPPmyTJlQg1wRkdPgG\n",
      "stanza_nlab_5250.json\n",
      "1OdKlfRGFbCoEBP71rV_AxUs6CYeRQqH9\n",
      "stanza_nlab_5000.json\n",
      "1oDMkOApYeIveQTYXEYV5xbprLO8FhORM\n",
      "stanza_nlab_4750.json\n",
      "1Ea8EcW2A-GmtOBCuAAhG1Q9gZVB_q-XS\n",
      "stanza_nlab_4500.json\n",
      "1x1HBfOM6813C3EKZ0hWMdsa_AWx2luZO\n",
      "stanza_nlab_4250.json\n",
      "1VYHjLZaJbrp3kROqIBd6m5gFyejFPWFg\n",
      "stanza_nlab_4000.json\n",
      "1LA3YG_eAb-XQZHOY8svpRYtcEM5P-pur\n",
      "stanza_nlab_3750.json\n",
      "1-ud6rhvplS_sM0i3shZlRWeuCDybFF_K\n",
      "stanza_nlab_3000.json\n",
      "19_3qgmmiT2tmMLxjm1msZotdND_Nx5UG\n",
      "stanza_nlab_3500.json\n",
      "1uP91MHe-IOfSW7ATyGSh7-WsuRdTR2Ue\n",
      "stanza_nlab_3250.json\n",
      "1j8Jhqs2qwxnPMivv6zZ-lQLYK1JXXu9F\n",
      "stanza_nlab_2750.json\n",
      "1i7adGG5TsWuTLvk6_2JCnLAe-W_tN4KF\n",
      "stanza_nlab_2250.json\n",
      "1exG79GA-C4IPpwplNcN4yjUjVW8fl_cZ\n",
      "stanza_nlab_2500.json\n",
      "1NRwZgkL1QvhmtUyCYeUMYc1Kz3l8oHiB\n",
      "stanza_nlab_2000.json\n",
      "14lGYxAqVLnlYplvsvfukTEE8mNUK9FHW\n",
      "stanza_nlab_1750.json\n",
      "1K7RCT8tj18dOeNwNXK4g0aqNQZWgBzC0\n",
      "stanza_nlab_1500.json\n",
      "1-AMhYmRWpXuE1jeLX8HnN9sfUGflX6cE\n",
      "stanza_nlab_1250.json\n",
      "1oUrnTRVC3oKN_aUS0J2SqYOho0fV0tob\n",
      "stanza_nlab_1000.json\n",
      "1la_OWqPsWKtO8mRoCQma-YFSwj2-M2sy\n",
      "stanza_nlab_750.json\n",
      "1jZVQGMSJbOGTy_eVHYqNee1OyMxKYD55\n",
      "elmo_nlab_data_first_pass_2.json\n",
      "1_NqBFX2ynaeohztci3Ho8_iBYpC-h0Zk\n",
      "elmo_nlab_data_first_pass.json\n",
      "1FGIeM_uhRwFq4sUlhbqe8PidGe8YQXtT\n",
      "stanza_nlab_500.json\n",
      "1NF_Athl7qM9hNOjkoUx1W_DHPdzIcWmZ\n",
      "stanza_nlab_250.json\n",
      "1GSbYFWiF-eV9-AE4q1wQ-CjqFHjd-Uv8\n",
      "UDPipe_nLab.json\n",
      "1zHXH9KE-sukym1FsX6GZdi4AI1_RBNLY\n"
     ]
    }
   ],
   "source": [
    "len(flist['files'])\n",
    "\n",
    "flistfilter = []\n",
    "for i in flist['files']:\n",
    "    if i[\"mimeType\"] == \"application/json\":\n",
    "        flistfilter.append(i)\n",
    "        print(i['name'])\n",
    "        print(i['id'])"
   ]
  },
  {
   "cell_type": "code",
   "execution_count": null,
   "id": "305fc606",
   "metadata": {},
   "outputs": [],
   "source": []
  }
 ],
 "metadata": {
  "kernelspec": {
   "display_name": "Python 3",
   "language": "python",
   "name": "python3"
  },
  "language_info": {
   "codemirror_mode": {
    "name": "ipython",
    "version": 3
   },
   "file_extension": ".py",
   "mimetype": "text/x-python",
   "name": "python",
   "nbconvert_exporter": "python",
   "pygments_lexer": "ipython3",
   "version": "3.8.8"
  }
 },
 "nbformat": 4,
 "nbformat_minor": 5
}
