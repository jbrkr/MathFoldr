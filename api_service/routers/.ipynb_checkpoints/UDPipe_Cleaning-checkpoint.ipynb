{
 "cells": [
  {
   "cell_type": "code",
   "execution_count": 1,
   "id": "7659878a",
   "metadata": {},
   "outputs": [],
   "source": [
    "#nlabDir_path = '/Volumes/dec15/7_9/down/stanza_nlab_out/'\n",
    "udp_path = '/Volumes/dec15/7_9/down/UDPipe_nLab.json'"
   ]
  },
  {
   "cell_type": "code",
   "execution_count": 6,
   "id": "50a1e271",
   "metadata": {},
   "outputs": [],
   "source": [
    "#stanzafilenames = []\n",
    "#for i in range(40):\n",
    "#    ct = (1+i)*25\n",
    "#    output_path = nlabDir_path + 'stanza_nlab_'+ str(ct) + '0.json'\n",
    "#    stanzafilenames.append(output_path)"
   ]
  },
  {
   "cell_type": "code",
   "execution_count": 9,
   "id": "e5caad36",
   "metadata": {},
   "outputs": [],
   "source": [
    "import json\n",
    "json_to_dict = lambda filename : json.load(open(filename,))"
   ]
  },
  {
   "cell_type": "code",
   "execution_count": 10,
   "id": "424c1015",
   "metadata": {},
   "outputs": [],
   "source": [
    "#a = json_to_dict(stanzafilenames[0])"
   ]
  },
  {
   "cell_type": "code",
   "execution_count": 13,
   "id": "e9d34b47",
   "metadata": {},
   "outputs": [],
   "source": [
    "#elmo_path_1 = '/Users/joebrucker/Downloads/drive-download-20210717T024408Z-001/elmo_nlab_data_first_pass.json'\n",
    "#elmo_path_2 = '/Users/joebrucker/Downloads/drive-download-20210717T024408Z-001/elmo_nlab_data_first_pass_2.json'"
   ]
  },
  {
   "cell_type": "code",
   "execution_count": 14,
   "id": "6511dba5",
   "metadata": {},
   "outputs": [],
   "source": [
    "udp = json_to_dict(udp_path)\n",
    "#elmo_1 = json_to_dict(elmo_path_1)"
   ]
  },
  {
   "cell_type": "code",
   "execution_count": 15,
   "id": "eeac451f",
   "metadata": {},
   "outputs": [],
   "source": [
    "u_pt = list(udp)\n",
    "#e_pt = list(elmo_1)"
   ]
  },
  {
   "cell_type": "code",
   "execution_count": 246,
   "id": "dcb52c6c",
   "metadata": {},
   "outputs": [],
   "source": [
    "post_process_udp = []\n",
    "post_process_udp_doc = {}\n",
    "for document in u_pt:\n",
    "    processed_dict = {}\n",
    "    udp_raw = document['UD Results']\n",
    "    udp_split = re.split('\\n#|\\n1|\\n2|\\n3|\\n4|\\n5|\\n6|\\n7|\\n8|\\n9',udp_raw)\n",
    "    processed_dict['meta'] = udp_split[:3]\n",
    "    udp_content = udp_split[5:]\n",
    "    \n",
    "    sent_section_dict_list = []\n",
    "    sent_section_dict = {}\n",
    "    sent_section_sublist = []\n",
    "    for j in range(len(udp_content)):\n",
    "        currLine = udp_content[j]\n",
    "        if currLine[:10] == ' sent_id =':\n",
    "            sent_section_dict['table_data'] = sent_section_sublist\n",
    "            sent_section_dict_list.append(sent_section_dict)\n",
    "            sent_section_dict = {}\n",
    "            sent_section_sublist = []\n",
    "            sent_section_dict['sent_id'] = int(currLine[10:])\n",
    "        elif currLine[:7] == ' text =':\n",
    "            sent_section_dict['text'] = currLine[7:]\n",
    "        elif currLine == ' newpar':\n",
    "             # Append Previous to list\n",
    "            sent_section_dict['table_data'] = sent_section_sublist\n",
    "            sent_section_dict_list.append(sent_section_dict)\n",
    "            sent_section_dict = {}\n",
    "            sent_section_sublist = []\n",
    "        else:\n",
    "            table_data_section = re.split('\\t',currLine)\n",
    "            sent_section_sublist.append(table_data_section)\n",
    "    \n",
    "    sent_section_dict['table_data'] = sent_section_sublist\n",
    "    sent_section_dict_list.append(sent_section_dict)\n",
    "    \n",
    "    processed_dict['sentence_parse'] = sent_section_dict_list\n",
    "    \n",
    "    post_process_udp_doc['title'] = document['title']\n",
    "    \n",
    "    post_process_udp_doc['UD Processed'] = processed_dict\n",
    "    \n",
    "    post_process_udp.append(post_process_udp_doc)\n",
    "    post_process_udp_doc = {}"
   ]
  },
  {
   "cell_type": "code",
   "execution_count": 257,
   "id": "8c48eba1",
   "metadata": {},
   "outputs": [],
   "source": [
    "#gg = post_process_udp[4]['UD Processed']['sentence_parse']\n",
    "lenlist = []\n",
    "tableList = []\n",
    "for k in post_process_udp:\n",
    "    gg = k['UD Processed']['sentence_parse']\n",
    "    for i in gg:\n",
    "        tables= i['table_data']\n",
    "        for j in tables:\n",
    "            tableRow = [\n",
    "                k['title'],\n",
    "                i['sent_id'],\n",
    "                i['text']]+j\n",
    "            \n",
    "            lenlist.append(len(j))\n",
    "            tableList.append(tableRow)\n",
    "        "
   ]
  },
  {
   "cell_type": "code",
   "execution_count": 266,
   "id": "aad34e28",
   "metadata": {},
   "outputs": [],
   "source": [
    "import pandas as pd\n",
    " \n",
    "# Create the pandas DataFrame\n",
    "ud_df = pd.DataFrame(tableList, columns = ['doc_title', 'sent_id', 'text', '_gap_1', \n",
    "                                           'form', 'lemma','upostag',\n",
    "                                           'xpostag','feats','head',\n",
    "                                           'deprel', '_gap_2', '_gap_3'])\n",
    " "
   ]
  },
  {
   "cell_type": "code",
   "execution_count": 267,
   "id": "3cab46e1",
   "metadata": {},
   "outputs": [],
   "source": [
    "file_name = 'udpipe2_nlab_wordlevel.csv'\n",
    "ud_df.to_csv(file_name, sep='\\t')"
   ]
  },
  {
   "cell_type": "code",
   "execution_count": 250,
   "id": "16a64114",
   "metadata": {},
   "outputs": [],
   "source": [
    "import json\n",
    "with open('ud_parsed_data.json', 'w', encoding='utf-8') as f:\n",
    "    json.dump(post_process_udp, f, ensure_ascii=False, indent=4)"
   ]
  },
  {
   "cell_type": "code",
   "execution_count": null,
   "id": "09f7fbd4",
   "metadata": {},
   "outputs": [],
   "source": []
  },
  {
   "cell_type": "code",
   "execution_count": null,
   "id": "d8b327eb",
   "metadata": {},
   "outputs": [],
   "source": []
  },
  {
   "cell_type": "code",
   "execution_count": null,
   "id": "ac109a28",
   "metadata": {},
   "outputs": [],
   "source": []
  },
  {
   "cell_type": "code",
   "execution_count": null,
   "id": "d998e51d",
   "metadata": {},
   "outputs": [],
   "source": []
  },
  {
   "cell_type": "code",
   "execution_count": null,
   "id": "abb3bd22",
   "metadata": {},
   "outputs": [],
   "source": []
  },
  {
   "cell_type": "code",
   "execution_count": null,
   "id": "05e30f74",
   "metadata": {},
   "outputs": [],
   "source": []
  },
  {
   "cell_type": "code",
   "execution_count": null,
   "id": "a031cff0",
   "metadata": {},
   "outputs": [],
   "source": []
  }
 ],
 "metadata": {
  "kernelspec": {
   "display_name": "Python 3",
   "language": "python",
   "name": "python3"
  },
  "language_info": {
   "codemirror_mode": {
    "name": "ipython",
    "version": 3
   },
   "file_extension": ".py",
   "mimetype": "text/x-python",
   "name": "python",
   "nbconvert_exporter": "python",
   "pygments_lexer": "ipython3",
   "version": "3.8.8"
  }
 },
 "nbformat": 4,
 "nbformat_minor": 5
}
