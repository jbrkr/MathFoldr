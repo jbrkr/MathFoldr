{
 "cells": [
  {
   "cell_type": "code",
   "execution_count": 1,
   "id": "5b5e3e31",
   "metadata": {},
   "outputs": [],
   "source": [
    "import psycopg2\n",
    "from configparser import ConfigParser"
   ]
  },
  {
   "cell_type": "code",
   "execution_count": 2,
   "id": "35cb8a57",
   "metadata": {},
   "outputs": [],
   "source": [
    "host=\"database-1.c1ynrvwy2f44.us-east-2.rds.amazonaws.com\"\n",
    "port=\"5432\" \n",
    "username=\"postgres\" \n",
    "password=\"mathfoldr\"\n",
    "dbname=\"postgres\""
   ]
  },
  {
   "cell_type": "code",
   "execution_count": 3,
   "id": "13c2b34f",
   "metadata": {},
   "outputs": [],
   "source": [
    "conn = psycopg2.connect(\n",
    "    host=host,\n",
    "    database=dbname,\n",
    "    user=username,\n",
    "    password=password)"
   ]
  },
  {
   "cell_type": "code",
   "execution_count": 7,
   "id": "ae85e94e",
   "metadata": {},
   "outputs": [],
   "source": [
    "cur = conn.cursor()"
   ]
  },
  {
   "cell_type": "code",
   "execution_count": 20,
   "id": "12f00b02",
   "metadata": {},
   "outputs": [],
   "source": [
    "#print('PostgreSQL database version:')\n",
    "#cur.execute('SELECT version()')\n",
    "#db_version = cur.fetchone()\n",
    "#print(db_version)"
   ]
  },
  {
   "cell_type": "code",
   "execution_count": 70,
   "id": "f4492d48",
   "metadata": {},
   "outputs": [],
   "source": [
    "#conn.commit()"
   ]
  },
  {
   "cell_type": "code",
   "execution_count": 8,
   "id": "ad176c7d",
   "metadata": {},
   "outputs": [],
   "source": [
    "def sql(query):\n",
    "    cur.execute(query)\n",
    "    output = cur.fetchone()\n",
    "    conn.commit()\n",
    "    return output"
   ]
  },
  {
   "cell_type": "code",
   "execution_count": 9,
   "id": "66bc52fc",
   "metadata": {},
   "outputs": [
    {
     "data": {
      "text/plain": [
       "('PostgreSQL 12.5 on x86_64-pc-linux-gnu, compiled by gcc (GCC) 4.8.3 20140911 (Red Hat 4.8.3-9), 64-bit',)"
      ]
     },
     "execution_count": 9,
     "metadata": {},
     "output_type": "execute_result"
    }
   ],
   "source": [
    "sql('SELECT version()')"
   ]
  },
  {
   "cell_type": "code",
   "execution_count": 1,
   "id": "5cc0d395",
   "metadata": {},
   "outputs": [],
   "source": [
    "pth_ud_full = '/Users/joebrucker/Programming/frontEnd/MathFoldr/api_service/routers/udpipe2_nlab_wordlevel.csv'\n",
    "pth_st_part = '/Users/joebrucker/Programming/frontEnd/MathFoldr/api_service/routers/stanza_nlab_wordlevel_so_far.csv'"
   ]
  },
  {
   "cell_type": "code",
   "execution_count": 2,
   "id": "e614b0bd",
   "metadata": {},
   "outputs": [],
   "source": [
    "import csv"
   ]
  },
  {
   "cell_type": "code",
   "execution_count": 3,
   "id": "9c98565f",
   "metadata": {},
   "outputs": [],
   "source": [
    "def read_to_list(path):\n",
    "    tupList = []\n",
    "    with open(path, newline='') as csvfile:\n",
    "        creader = csv.reader(csvfile, delimiter='\\t')\n",
    "        for row in creader:\n",
    "            tupList.append(row)\n",
    "    return tupList"
   ]
  },
  {
   "cell_type": "code",
   "execution_count": 4,
   "id": "8349a5d2",
   "metadata": {},
   "outputs": [],
   "source": [
    "uddd = read_to_list(pth_ud_full)"
   ]
  },
  {
   "cell_type": "code",
   "execution_count": 7,
   "id": "ac08bc77",
   "metadata": {},
   "outputs": [
    {
     "data": {
      "text/plain": [
       "9204700"
      ]
     },
     "execution_count": 7,
     "metadata": {},
     "output_type": "execute_result"
    }
   ],
   "source": [
    "len(uddd)"
   ]
  },
  {
   "cell_type": "code",
   "execution_count": 6,
   "id": "6e5252e5",
   "metadata": {},
   "outputs": [],
   "source": []
  },
  {
   "cell_type": "code",
   "execution_count": 8,
   "id": "590c6b3a",
   "metadata": {},
   "outputs": [],
   "source": [
    "for i in uddd:\n",
    "    i.append('udpipe_2')"
   ]
  },
  {
   "cell_type": "code",
   "execution_count": 10,
   "id": "2851b8d4",
   "metadata": {},
   "outputs": [],
   "source": [
    "uddd[0] = ['document_id', \n",
    "          'doc_title',\n",
    " 'sentence_id',\n",
    " 'document',\n",
    " '_gap_1',\n",
    " 'text',\n",
    " 'lemma',\n",
    " 'upos',\n",
    " 'xpos',\n",
    " 'feats',\n",
    " 'head',\n",
    " 'deprel',\n",
    " '_gap_2',\n",
    " '_gap_3', \n",
    "'model']"
   ]
  },
  {
   "cell_type": "code",
   "execution_count": 14,
   "id": "639a7a7d",
   "metadata": {},
   "outputs": [],
   "source": [
    "ud2 = []\n",
    "for i in uddd:\n",
    "    j = [\n",
    "        i[0],\n",
    "        i[1],\n",
    "        i[2],\n",
    "        i[3],\n",
    "        i[5],\n",
    "        i[6],\n",
    "        i[7],\n",
    "        i[8],\n",
    "        i[9],\n",
    "        i[10],\n",
    "        i[11],\n",
    "        i[14]\n",
    "    ]\n",
    "    ud2.append(j)"
   ]
  },
  {
   "cell_type": "code",
   "execution_count": 16,
   "id": "9603465b",
   "metadata": {},
   "outputs": [
    {
     "data": {
      "text/plain": [
       "['document_id',\n",
       " 'doc_title',\n",
       " 'sentence_id',\n",
       " 'document',\n",
       " 'text',\n",
       " 'lemma',\n",
       " 'upos',\n",
       " 'xpos',\n",
       " 'feats',\n",
       " 'head',\n",
       " 'deprel',\n",
       " 'model']"
      ]
     },
     "execution_count": 16,
     "metadata": {},
     "output_type": "execute_result"
    }
   ],
   "source": [
    "ud2[0]"
   ]
  },
  {
   "cell_type": "code",
   "execution_count": 17,
   "id": "06a02ff5",
   "metadata": {},
   "outputs": [],
   "source": [
    "filename = 'reord_ud.csv'\n",
    "import csv    \n",
    "# writing to csv file \n",
    "with open(filename, 'w') as csvfile: \n",
    "    # creating a csv writer object \n",
    "    csvwriter = csv.writer(csvfile) \n",
    "    csvwriter.writerows(ud2)"
   ]
  },
  {
   "cell_type": "code",
   "execution_count": null,
   "id": "6168488e",
   "metadata": {},
   "outputs": [],
   "source": [
    "import csv\n",
    "with open('reord_ud.csv', 'w', newline='') as csvfile:\n",
    "    spamwriter = csv.writer(csvfile, delimiter=' ',\n",
    "                            quotechar='|', quoting=csv.QUOTE_MINIMAL)\n",
    "    spamwriter.writerow(['Spam'] * 5 + ['Baked Beans'])\n",
    "    spamwriter.writerow(['Spam', 'Lovely Spam', 'Wonderful Spam'])"
   ]
  },
  {
   "cell_type": "code",
   "execution_count": null,
   "id": "77eeef99",
   "metadata": {},
   "outputs": [],
   "source": [
    "document_id,\n",
    "    sentence_id integer,\n",
    "    text text,\n",
    "    lemma text,\n",
    "    upos text,\n",
    "    xpos text,\n",
    "    feats text,\n",
    "    head integer,\n",
    "    deprel text,\n",
    "    start_char integer,\n",
    "    end_char integer,\n",
    "    ner text,\n",
    "    model text"
   ]
  },
  {
   "cell_type": "code",
   "execution_count": 18,
   "id": "a32d3403",
   "metadata": {},
   "outputs": [],
   "source": [
    "udTupListT = []\n",
    "\n",
    "for i in uddd:\n",
    "    reord = (i[0],  # doc id\n",
    "             i[2],  # sent id\n",
    "             i[6], # text\n",
    "             i[7], # lemma\n",
    "             i[9], # upos\n",
    "             i[8], # xpos\n",
    "             i[10], # feats\n",
    "             i[11], # head\n",
    "             i[12], # deprel\n",
    "             'udpipe_2' # model\n",
    "            )\n",
    "    udTupListT.append(reord)"
   ]
  },
  {
   "cell_type": "code",
   "execution_count": 19,
   "id": "f2731b5c",
   "metadata": {},
   "outputs": [
    {
     "data": {
      "text/plain": [
       "9204700"
      ]
     },
     "execution_count": 19,
     "metadata": {},
     "output_type": "execute_result"
    }
   ],
   "source": [
    "len(udTupListT)"
   ]
  },
  {
   "cell_type": "code",
   "execution_count": null,
   "id": "53f03742",
   "metadata": {},
   "outputs": [],
   "source": [
    "tup = udTupListT[1:]\n",
    "ar = ', '.join(str(i) for i in tup)\n",
    "cur.execute(\"INSERT INTO \\\n",
    "            token_tags(document_id,sentence_id,\\\n",
    "            text,lemma,xpos,upos,feats,head,\\\n",
    "            deprel,model) VALUES \" + ar) "
   ]
  },
  {
   "cell_type": "code",
   "execution_count": null,
   "id": "1f06cd1a",
   "metadata": {},
   "outputs": [],
   "source": [
    "conn.commit()"
   ]
  },
  {
   "cell_type": "code",
   "execution_count": null,
   "id": "4cc21498",
   "metadata": {},
   "outputs": [],
   "source": []
  },
  {
   "cell_type": "code",
   "execution_count": null,
   "id": "8e28706b",
   "metadata": {},
   "outputs": [],
   "source": []
  },
  {
   "cell_type": "code",
   "execution_count": null,
   "id": "74ab0b1b",
   "metadata": {},
   "outputs": [],
   "source": [
    "tup = tupListT[1:]\n",
    "ar = ', '.join(str(i) for i in tup)\n",
    "cur.execute(\"INSERT INTO \\\n",
    "            token_tags(document_id,sentence_id,\\\n",
    "            text,lemma,xpos,upos,feats,head,\\\n",
    "            deprel,start_char,end_char,ner,model) VALUES \" + ar) "
   ]
  },
  {
   "cell_type": "code",
   "execution_count": null,
   "id": "fb61384d",
   "metadata": {},
   "outputs": [],
   "source": []
  },
  {
   "cell_type": "code",
   "execution_count": null,
   "id": "787a0ec6",
   "metadata": {},
   "outputs": [],
   "source": []
  },
  {
   "cell_type": "code",
   "execution_count": 49,
   "id": "48d90b53",
   "metadata": {},
   "outputs": [],
   "source": [
    "tupListT = []\n",
    "\n",
    "\n",
    "for i in tupList:\n",
    "    tupListT.append(tuple(i[:12]+['stanza']))"
   ]
  },
  {
   "cell_type": "code",
   "execution_count": null,
   "id": "2c189e9d",
   "metadata": {},
   "outputs": [],
   "source": []
  },
  {
   "cell_type": "code",
   "execution_count": null,
   "id": "f1e675fe",
   "metadata": {},
   "outputs": [],
   "source": [
    "cols = [document_id\n",
    "sentence_id\n",
    "text\n",
    "lemma\n",
    "xpos\n",
    "upos\n",
    "feats\n",
    "head\n",
    "deprel\n",
    "start_char\n",
    "end_char\n",
    "ner\n",
    "model]"
   ]
  },
  {
   "cell_type": "code",
   "execution_count": null,
   "id": "188e8053",
   "metadata": {},
   "outputs": [],
   "source": [
    "#tup = tuple(several_rows_of_values)\n",
    "#args_str = ','.join(cur.mogrify(\"(%s,%s,%s,%s,%s,%s,%s,%s,%s,%s,%s,%s,%s)\", x) for x in tup)"
   ]
  },
  {
   "cell_type": "code",
   "execution_count": null,
   "id": "5430246f",
   "metadata": {},
   "outputs": [],
   "source": [
    "tup = tupListT[1:]\n",
    "ar = ', '.join(str(i) for i in tup)\n",
    "cur.execute(\"INSERT INTO \\\n",
    "            token_tags(document_id,sentence_id,\\\n",
    "            text,lemma,xpos,upos,feats,head,\\\n",
    "            deprel,start_char,end_char,ner,model) VALUES \" + ar) "
   ]
  },
  {
   "cell_type": "code",
   "execution_count": null,
   "id": "9b8e9387",
   "metadata": {},
   "outputs": [],
   "source": [
    "conn.commit()"
   ]
  },
  {
   "cell_type": "code",
   "execution_count": null,
   "id": "7265002d",
   "metadata": {},
   "outputs": [],
   "source": []
  },
  {
   "cell_type": "code",
   "execution_count": null,
   "id": "a5529e4c",
   "metadata": {},
   "outputs": [],
   "source": [
    "#conn.close()"
   ]
  }
 ],
 "metadata": {
  "kernelspec": {
   "display_name": "Python 3",
   "language": "python",
   "name": "python3"
  },
  "language_info": {
   "codemirror_mode": {
    "name": "ipython",
    "version": 3
   },
   "file_extension": ".py",
   "mimetype": "text/x-python",
   "name": "python",
   "nbconvert_exporter": "python",
   "pygments_lexer": "ipython3",
   "version": "3.8.8"
  }
 },
 "nbformat": 4,
 "nbformat_minor": 5
}
